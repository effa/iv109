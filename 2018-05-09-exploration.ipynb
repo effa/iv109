{
 "cells": [
  {
   "cell_type": "markdown",
   "metadata": {},
   "source": [
    "# Feedback Loops in Adaptive Learning Systems"
   ]
  },
  {
   "cell_type": "code",
   "execution_count": 12,
   "metadata": {},
   "outputs": [],
   "source": [
    "%matplotlib  inline\n",
    "from collections import OrderedDict\n",
    "from math import sqrt, log\n",
    "from random import random, randint, choice\n",
    "import numpy as np\n",
    "import matplotlib.pyplot as plt\n",
    "import pandas as pd\n",
    "import seaborn as sns"
   ]
  },
  {
   "cell_type": "code",
   "execution_count": 22,
   "metadata": {},
   "outputs": [
    {
     "name": "stdout",
     "output_type": "stream",
     "text": [
      "0 : 0.04\n",
      "0 : 0.015384615384615387\n",
      "1 : 0.05185185185185186\n",
      "1 : 0.16065573770491803\n",
      "0 : 0.06697038724373577\n",
      "0 : 0.026210995542347702\n",
      "0 : 0.009992824502435894\n",
      "0 : 0.0037708601532476056\n",
      "0 : 0.0014174130990778546\n",
      "1 : 0.004943428645481336\n"
     ]
    }
   ],
   "source": [
    "class ProxyStudent:\n",
    "    def __init__(self, p_learn, p_good, init_skill=0.1):\n",
    "        \"\"\"\n",
    "        Args:\n",
    "            p_learn = prabability of getting learned after 1 question\n",
    "            p_good = [probability of good performance for skill=0, -||- skill=1]\n",
    "        \"\"\"\n",
    "        self.p_learn = p_learn\n",
    "        self.p_good = p_good\n",
    "        self.skill = init_skill\n",
    "        \n",
    "    def update_skill(self, performance):\n",
    "        \"\"\"Called when student answers a question.\"\"\"\n",
    "        \n",
    "        # Performance at skill: p_perf_at_skill[performance][skill]\n",
    "        p_perf_at_skill = [list(map(lambda x: 1 - x, self.p_good)), self.p_good]\n",
    "        \n",
    "        likelihood_good = self.skill * p_perf_at_skill[performance][1]\n",
    "        likelihood_bad = (1 - self.skill) * p_perf_at_skill[performance][0]\n",
    "        \n",
    "        # New skill according to Bayes theorem\n",
    "        self.skill = (likelihood_good / (likelihood_good + likelihood_bad))\n",
    "        \n",
    "s = ProxyStudent(p_learn=0.1, p_good=[0.2, 0.7])\n",
    "for i in range(10): \n",
    "    answer = int(randint(0, 5) > 3)\n",
    "    s.update_skill(answer)\n",
    "    print(str(answer) + ' : ' + str(s.skill))"
   ]
  },
  {
   "cell_type": "code",
   "execution_count": 27,
   "metadata": {},
   "outputs": [
    {
     "data": {
      "text/plain": [
       "1"
      ]
     },
     "execution_count": 27,
     "metadata": {},
     "output_type": "execute_result"
    }
   ],
   "source": [
    "class TrueStudent:\n",
    "    def __init__(self, p_learn, p_good, max_answers=20):\n",
    "        \"\"\"\n",
    "        Args:\n",
    "            p_learn = prabability of getting learned after 1 question\n",
    "            p_good = [probability of good performance for skill=0, -||- skill=1]\n",
    "        \"\"\"\n",
    "        self.p_learn = p_learn\n",
    "        self.p_good = p_good\n",
    "        self.skill = 0\n",
    "        self.n_answers = 0\n",
    "        self.max_answers = max_answers\n",
    "        \n",
    "    def update_skill(self, performance):\n",
    "        \"\"\"Called when student answers a question.\"\"\"\n",
    "        if self.skill == 1:\n",
    "            return\n",
    "        if random() < self.p_learn:\n",
    "            self.skill = 1\n",
    "            \n",
    "    def answer(self):\n",
    "        \"\"\"Return a performance for a new question\"\"\"\n",
    "        self.n_answers += 1\n",
    "        p_good = self.p_good[self.skill]\n",
    "        performance = int(random() < p_good)\n",
    "        return performance\n",
    "\n",
    "    def leave(self, mastery_decision):\n",
    "        return mastery_decision or self.n_answers >= self.max_answers\n",
    "    \n",
    "s = TrueStudent(p_learn=1.0, p_good=(0.2, 0.7))\n",
    "s.update_skill(1)\n",
    "s.skill"
   ]
  },
  {
   "cell_type": "code",
   "execution_count": 30,
   "metadata": {
    "collapsed": true
   },
   "outputs": [],
   "source": [
    "def proxy_objective_solved_tasks(histories):\n",
    "    \"\"\"\n",
    "    Args:\n",
    "        histories: history of each student\n",
    "    \"\"\"\n",
    "    return sum([len(history) for history in histories])\n",
    "\n",
    "def proxy_objective_successful_tasks(histories):\n",
    "    return sum([sum(history) for history in histories])\n",
    "\n",
    "class LearningSystem:\n",
    "    def __init__(self, threshold, proxy_objective, threshold_delta=0.05):\n",
    "        self.threshold = threshold\n",
    "        self.proxy_objective = proxy_objective\n",
    "        self.threshold_delta = threshold_delta\n",
    "        \n",
    "    def do_iteration(self, true_students):\n",
    "        \"\"\"\n",
    "        Performs the simulation for a single month.\n",
    "        Will affect local attributes. (threshold)\n",
    "        \"\"\"\n",
    "        thresholds = [self.threshold - self.threshold_delta,\n",
    "                      self.threshold + self.threshold_delta]\n",
    "        groups = [true_students[:len(true_students) // 2],\n",
    "                  true_students[len(true_students) // 2:]]\n",
    "        \n",
    "        objectives = []\n",
    "        for group, t in zip(groups, thresholds):\n",
    "            histories = [self.process_student(s, t) for s in group]\n",
    "            objectives.append(self.proxy_objective(histories))\n",
    "        \n",
    "        if objectives[1] > objectives[0]:\n",
    "            self.threshold += self.threshold_delta\n",
    "        else:\n",
    "            self.threshold -= self.threshold_delta\n",
    "    \n",
    "    def process_student(self, true_student, threshold):\n",
    "        # Intentional, TODO: think about it again.\n",
    "        proxy_student = ProxyStudent(true_student.p_learn, true_student.p_good)\n",
    "        mastery = False\n",
    "        history = []\n",
    "        \n",
    "        while not true_student.leave(mastery):\n",
    "            performance = true_student.answer()\n",
    "            proxy_student.update_skill(performance)\n",
    "            mastery = proxy_student.skill >= threshold\n",
    "            \n",
    "            history.append(performance)\n",
    "        \n",
    "        return history"
   ]
  },
  {
   "cell_type": "code",
   "execution_count": 32,
   "metadata": {},
   "outputs": [
    {
     "name": "stdout",
     "output_type": "stream",
     "text": [
      "[0.45, 0.4, 0.35000000000000003, 0.4, 0.35000000000000003, 0.4, 0.45, 0.5, 0.45, 0.5, 0.55, 0.6000000000000001, 0.6500000000000001, 0.7000000000000002, 0.6500000000000001, 0.6000000000000001, 0.6500000000000001, 0.6000000000000001, 0.6500000000000001, 0.7000000000000002, 0.7500000000000002, 0.8000000000000003, 0.8500000000000003, 0.9000000000000004, 0.9500000000000004, 0.9000000000000004, 0.8500000000000003, 0.8000000000000003, 0.7500000000000002, 0.7000000000000002, 0.7500000000000002, 0.7000000000000002, 0.6500000000000001, 0.6000000000000001, 0.6500000000000001, 0.7000000000000002, 0.7500000000000002, 0.8000000000000003, 0.7500000000000002, 0.7000000000000002, 0.6500000000000001, 0.6000000000000001, 0.55, 0.5, 0.55, 0.5, 0.45, 0.5, 0.45, 0.5, 0.45, 0.5, 0.55, 0.6000000000000001, 0.6500000000000001, 0.7000000000000002, 0.7500000000000002, 0.7000000000000002, 0.7500000000000002, 0.8000000000000003, 0.8500000000000003, 0.8000000000000003, 0.8500000000000003, 0.9000000000000004, 0.9500000000000004, 0.9000000000000004, 0.8500000000000003, 0.9000000000000004, 0.9500000000000004, 0.9000000000000004, 0.9500000000000004, 0.9000000000000004, 0.8500000000000003, 0.9000000000000004, 0.8500000000000003, 0.9000000000000004, 0.8500000000000003, 0.9000000000000004, 0.8500000000000003, 0.9000000000000004, 0.8500000000000003, 0.8000000000000003, 0.7500000000000002, 0.7000000000000002, 0.7500000000000002, 0.8000000000000003, 0.7500000000000002, 0.8000000000000003, 0.7500000000000002, 0.7000000000000002, 0.7500000000000002, 0.8000000000000003, 0.8500000000000003, 0.9000000000000004, 0.8500000000000003, 0.8000000000000003, 0.7500000000000002, 0.7000000000000002, 0.6500000000000001, 0.6000000000000001]\n"
     ]
    }
   ],
   "source": [
    "def perform_simulation(\n",
    "        proxy_objective=proxy_objective_solved_tasks,\n",
    "        p_learn=0.05,\n",
    "        p_good=[0.2, 0.7],\n",
    "        n_iters=100,\n",
    "        n_students=100):\n",
    "    als = LearningSystem(threshold=0.5, proxy_objective=proxy_objective)\n",
    "    thresholds = []\n",
    "    for i_iter in range(n_iters):\n",
    "        true_students = [\n",
    "            TrueStudent(p_learn=p_learn, p_good=p_good)\n",
    "            for _ in range(n_students)\n",
    "        ]\n",
    "        als.do_iteration(true_students)\n",
    "        thresholds.append(als.threshold)\n",
    "    print(thresholds)\n",
    "    \n",
    "perform_simulation()"
   ]
  },
  {
   "cell_type": "code",
   "execution_count": null,
   "metadata": {
    "collapsed": true
   },
   "outputs": [],
   "source": []
  },
  {
   "cell_type": "code",
   "execution_count": null,
   "metadata": {
    "collapsed": true
   },
   "outputs": [],
   "source": []
  },
  {
   "cell_type": "code",
   "execution_count": null,
   "metadata": {
    "collapsed": true
   },
   "outputs": [],
   "source": []
  },
  {
   "cell_type": "code",
   "execution_count": null,
   "metadata": {
    "collapsed": true
   },
   "outputs": [],
   "source": []
  },
  {
   "cell_type": "code",
   "execution_count": null,
   "metadata": {
    "collapsed": true
   },
   "outputs": [],
   "source": []
  },
  {
   "cell_type": "code",
   "execution_count": null,
   "metadata": {
    "collapsed": true
   },
   "outputs": [],
   "source": []
  },
  {
   "cell_type": "code",
   "execution_count": null,
   "metadata": {
    "collapsed": true
   },
   "outputs": [],
   "source": []
  },
  {
   "cell_type": "code",
   "execution_count": null,
   "metadata": {
    "collapsed": true
   },
   "outputs": [],
   "source": []
  },
  {
   "cell_type": "code",
   "execution_count": null,
   "metadata": {
    "collapsed": true
   },
   "outputs": [],
   "source": []
  },
  {
   "cell_type": "code",
   "execution_count": null,
   "metadata": {
    "collapsed": true
   },
   "outputs": [],
   "source": []
  },
  {
   "cell_type": "code",
   "execution_count": null,
   "metadata": {
    "collapsed": true
   },
   "outputs": [],
   "source": []
  },
  {
   "cell_type": "code",
   "execution_count": null,
   "metadata": {
    "collapsed": true
   },
   "outputs": [],
   "source": []
  }
 ],
 "metadata": {
  "kernelspec": {
   "display_name": "Python 3",
   "language": "python",
   "name": "python3"
  },
  "language_info": {
   "codemirror_mode": {
    "name": "ipython",
    "version": 3
   },
   "file_extension": ".py",
   "mimetype": "text/x-python",
   "name": "python",
   "nbconvert_exporter": "python",
   "pygments_lexer": "ipython3",
   "version": "3.6.3"
  }
 },
 "nbformat": 4,
 "nbformat_minor": 2
}
