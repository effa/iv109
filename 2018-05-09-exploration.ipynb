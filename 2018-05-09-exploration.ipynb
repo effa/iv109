{
 "cells": [
  {
   "cell_type": "markdown",
   "metadata": {},
   "source": [
    "# Feedback Loops in Adaptive Learning Systems"
   ]
  },
  {
   "cell_type": "code",
   "execution_count": 12,
   "metadata": {},
   "outputs": [],
   "source": [
    "%matplotlib  inline\n",
    "from collections import OrderedDict\n",
    "from math import sqrt, log\n",
    "from random import random, randint, choice\n",
    "import numpy as np\n",
    "import matplotlib.pyplot as plt\n",
    "import pandas as pd\n",
    "import seaborn as sns"
   ]
  },
  {
   "cell_type": "code",
   "execution_count": 140,
   "metadata": {},
   "outputs": [
    {
     "name": "stdout",
     "output_type": "stream",
     "text": [
      "0 : 0.136\n",
      "1 : 0.4197014925373134\n",
      "1 : 0.745142024763292\n",
      "0 : 0.5706942030467234\n",
      "0 : 0.3994006937077608\n",
      "1 : 0.7295276924737711\n",
      "0 : 0.5525646026068052\n",
      "0 : 0.3848718748194689\n",
      "1 : 0.7178569749159035\n",
      "0 : 0.539433011917351\n"
     ]
    }
   ],
   "source": [
    "class ProxyStudent:\n",
    "    def __init__(self, p_learn, p_good, init_skill=0.1):\n",
    "        \"\"\"\n",
    "        Args:\n",
    "            p_learn = prabability of getting learned after 1 question\n",
    "            p_good = [probability of good performance for skill=0, -||- skill=1]\n",
    "        \"\"\"\n",
    "        self.p_learn = p_learn\n",
    "        self.p_good = p_good\n",
    "        self.skill = init_skill\n",
    "        \n",
    "    def update_skill(self, performance):\n",
    "        \"\"\"Called when student answers a question.\"\"\"\n",
    "        \n",
    "        # Performance at skill: p_perf_at_skill[performance][skill]\n",
    "        p_perf_at_skill = [list(map(lambda x: 1 - x, self.p_good)), self.p_good]\n",
    "        \n",
    "        likelihood_good = self.skill * p_perf_at_skill[performance][1]\n",
    "        likelihood_bad = (1 - self.skill) * p_perf_at_skill[performance][0]\n",
    "        \n",
    "        # New skill according to Bayes theorem\n",
    "        self.skill = (likelihood_good / (likelihood_good + likelihood_bad))\n",
    "        \n",
    "        # Learning\n",
    "        self.skill += (1 - self.skill) * self.p_learn\n",
    "        \n",
    "s = ProxyStudent(p_learn=0.1, p_good=[0.2, 0.7])\n",
    "for i in range(10): \n",
    "    answer = int(randint(0, 5) > 3)\n",
    "    s.update_skill(answer)\n",
    "    print(str(answer) + ' : ' + str(s.skill))"
   ]
  },
  {
   "cell_type": "code",
   "execution_count": 141,
   "metadata": {},
   "outputs": [
    {
     "name": "stdout",
     "output_type": "stream",
     "text": [
      "1 : 1\n",
      "1 : 1\n",
      "1 : 1\n",
      "1 : 1\n",
      "1 : 1\n",
      "1 : 1\n",
      "1 : 1\n",
      "1 : 1\n",
      "1 : 1\n",
      "1 : 1\n"
     ]
    }
   ],
   "source": [
    "class TrueStudent:\n",
    "    def __init__(self, p_learn, p_good, max_answers=20):\n",
    "        \"\"\"\n",
    "        Args:\n",
    "            p_learn = prabability of getting learned after 1 question\n",
    "            p_good = [probability of good performance for skill=0, -||- skill=1]\n",
    "        \"\"\"\n",
    "        self.p_learn = p_learn\n",
    "        self.p_good = p_good\n",
    "        self.skill = 0\n",
    "        self.n_answers = 0\n",
    "        self.max_answers = max_answers\n",
    "        \n",
    "    def update_skill(self):\n",
    "        \"\"\"Called when student answers a question.\"\"\"\n",
    "        if self.skill == 1:\n",
    "            return\n",
    "        if random() < self.p_learn:\n",
    "            self.skill = 1\n",
    "            \n",
    "    def answer(self):\n",
    "        \"\"\"Return a performance for a new question\"\"\"\n",
    "        self.n_answers += 1\n",
    "        self.update_skill()\n",
    "        p_good = self.p_good[self.skill]\n",
    "        performance = int(random() < p_good)\n",
    "        return performance\n",
    "\n",
    "    def leave(self, mastery_decision):\n",
    "        return mastery_decision or self.n_answers >= self.max_answers\n",
    "    \n",
    "s = TrueStudent(p_learn=1.0, p_good=(0.0, 1.))\n",
    "for i in range(10): \n",
    "    answer = s.answer()\n",
    "    print(str(answer) + ' : ' + str(s.skill))"
   ]
  },
  {
   "cell_type": "code",
   "execution_count": 264,
   "metadata": {
    "collapsed": true
   },
   "outputs": [],
   "source": [
    "def proxy_objective_solved_tasks(histories):\n",
    "    \"\"\"\n",
    "    Args:\n",
    "        histories: history of each student\n",
    "    \"\"\"\n",
    "    return sum([len(history) for history in histories])\n",
    "\n",
    "def proxy_objective_successful_tasks(histories):\n",
    "    return sum([sum(history) for history in histories])\n",
    "\n",
    "class LearningSystem:\n",
    "    def __init__(self, threshold, proxy_objective, threshold_delta=0.05):\n",
    "        self.threshold = threshold\n",
    "        self.objectives = None\n",
    "        self.proxy_objective = proxy_objective\n",
    "        self.threshold_delta = threshold_delta\n",
    "        \n",
    "    def do_iteration(self, true_students):\n",
    "        \"\"\"\n",
    "        Performs the simulation for a single month.\n",
    "        Will affect local attributes. (threshold)\n",
    "        \"\"\"\n",
    "        thresholds = [self.threshold - self.threshold_delta,\n",
    "                      self.threshold + self.threshold_delta]\n",
    "        groups = [true_students[:len(true_students) // 2],\n",
    "                  true_students[len(true_students) // 2:]]\n",
    "        \n",
    "        objectives = []\n",
    "        for group, t in zip(groups, thresholds):\n",
    "            histories = [self.process_student(s, t) for s in group]\n",
    "            objectives.append(self.proxy_objective(histories))\n",
    "        \n",
    "        if objectives[1] >= objectives[0]:\n",
    "            self.threshold = min(1 - self.threshold_delta, self.threshold + self.threshold_delta)\n",
    "        else:\n",
    "            self.threshold = max(self.threshold_delta, self.threshold - self.threshold_delta)\n",
    "        self.objectives = objectives #max(objectives)\n",
    "    \n",
    "    def process_student(self, true_student, threshold=None):\n",
    "        threshold = threshold if threshold is not None else self.threshold\n",
    "        # Intentional, TODO: think about it again.\n",
    "        proxy_student = ProxyStudent(true_student.p_learn, true_student.p_good)\n",
    "        mastery = False\n",
    "        history = []\n",
    "        \n",
    "        while not true_student.leave(mastery):\n",
    "            performance = true_student.answer()\n",
    "            proxy_student.update_skill(performance)\n",
    "            mastery = proxy_student.skill >= threshold\n",
    "            \n",
    "            history.append(performance)\n",
    "        \n",
    "        return history"
   ]
  },
  {
   "cell_type": "code",
   "execution_count": 265,
   "metadata": {},
   "outputs": [
    {
     "name": "stdout",
     "output_type": "stream",
     "text": [
      "5 [0, 1, 1, 1, 1]\n"
     ]
    }
   ],
   "source": [
    "def simulate_single_student(\n",
    "        proxy_objective=proxy_objective_solved_tasks,\n",
    "        p_learn=0.1,\n",
    "        p_good=[0.2, 0.7],\n",
    "        threshold=0.95):\n",
    "    als = LearningSystem(threshold=threshold, proxy_objective=proxy_objective)\n",
    "    true_student = TrueStudent(p_learn=p_learn, p_good=p_good)\n",
    "    history = als.process_student(true_student)\n",
    "    print(len(history), history)\n",
    "    \n",
    "simulate_single_student()"
   ]
  },
  {
   "cell_type": "code",
   "execution_count": 292,
   "metadata": {},
   "outputs": [
    {
     "data": {
      "image/png": "[encoded data removed]",
      "text/plain": [
       "<matplotlib.figure.Figure at 0x7f2012451470>"
      ]
     },
     "metadata": {},
     "output_type": "display_data"
    }
   ],
   "source": [
    "def perform_simulation(\n",
    "        proxy_objective=proxy_objective_solved_tasks,\n",
    "        p_learn=0.1,\n",
    "        p_good=[0.01, 0.7],\n",
    "        n_iters=100,\n",
    "        n_students=100):\n",
    "    als = LearningSystem(threshold=0.5, proxy_objective=proxy_objective)\n",
    "    thresholds = []\n",
    "    objectivePlus, objectiveMinus = [], []\n",
    "    mastery = []\n",
    "    for i_iter in range(n_iters):\n",
    "        true_students = create_students(n_students, p_learn, p_good)\n",
    "        als.do_iteration(true_students)\n",
    "        thresholds.append(als.threshold)\n",
    "        mastery.append(sum(int(s.n_answers < s.max_answers) for s in true_students))\n",
    "        objectiveMinus.append(als.objectives[0])\n",
    "        objectivePlus.append(als.objectives[1])\n",
    "    results = pd.DataFrame({\n",
    "        'thresholds': thresholds,\n",
    "        'mastery': mastery,\n",
    "        'objectiveMinus': objectiveMinus,\n",
    "        'objectivePlus': objectivePlus})\n",
    "    fig, (ax1, ax2, ax3) = plt.subplots(nrows=3, sharex=True)\n",
    "    results.thresholds.plot(ax=ax1)\n",
    "    results[['objectiveMinus', 'objectivePlus']].plot(ax=ax2)\n",
    "    results.mastery.plot(ax=ax3)\n",
    "\n",
    "def create_students(n_students, p_learn, p_good):\n",
    "    return [\n",
    "        TrueStudent(p_learn=p_learn, p_good=p_good)\n",
    "        for _ in range(n_students)\n",
    "    ]\n",
    "    \n",
    "perform_simulation()"
   ]
  },
  {
   "cell_type": "code",
   "execution_count": 297,
   "metadata": {},
   "outputs": [
    {
     "data": {
      "image/png": "[encoded data removed]",
      "text/plain": [
       "<matplotlib.figure.Figure at 0x7f2012304c18>"
      ]
     },
     "metadata": {},
     "output_type": "display_data"
    }
   ],
   "source": [
    "perform_simulation(proxy_objective=proxy_objective_successful_tasks)"
   ]
  },
  {
   "cell_type": "code",
   "execution_count": null,
   "metadata": {
    "collapsed": true
   },
   "outputs": [],
   "source": []
  },
  {
   "cell_type": "code",
   "execution_count": null,
   "metadata": {
    "collapsed": true
   },
   "outputs": [],
   "source": []
  },
  {
   "cell_type": "code",
   "execution_count": null,
   "metadata": {
    "collapsed": true
   },
   "outputs": [],
   "source": []
  },
  {
   "cell_type": "code",
   "execution_count": null,
   "metadata": {
    "collapsed": true
   },
   "outputs": [],
   "source": []
  },
  {
   "cell_type": "code",
   "execution_count": null,
   "metadata": {
    "collapsed": true
   },
   "outputs": [],
   "source": []
  },
  {
   "cell_type": "code",
   "execution_count": null,
   "metadata": {
    "collapsed": true
   },
   "outputs": [],
   "source": []
  },
  {
   "cell_type": "code",
   "execution_count": null,
   "metadata": {
    "collapsed": true
   },
   "outputs": [],
   "source": []
  },
  {
   "cell_type": "code",
   "execution_count": null,
   "metadata": {
    "collapsed": true
   },
   "outputs": [],
   "source": []
  },
  {
   "cell_type": "code",
   "execution_count": null,
   "metadata": {
    "collapsed": true
   },
   "outputs": [],
   "source": []
  },
  {
   "cell_type": "code",
   "execution_count": null,
   "metadata": {
    "collapsed": true
   },
   "outputs": [],
   "source": []
  },
  {
   "cell_type": "code",
   "execution_count": null,
   "metadata": {
    "collapsed": true
   },
   "outputs": [],
   "source": []
  }
 ],
 "metadata": {
  "kernelspec": {
   "display_name": "Python 3",
   "language": "python",
   "name": "python3"
  },
  "language_info": {
   "codemirror_mode": {
    "name": "ipython",
    "version": 3
   },
   "file_extension": ".py",
   "mimetype": "text/x-python",
   "name": "python",
   "nbconvert_exporter": "python",
   "pygments_lexer": "ipython3",
   "version": "3.6.3"
  }
 },
 "nbformat": 4,
 "nbformat_minor": 2
}
